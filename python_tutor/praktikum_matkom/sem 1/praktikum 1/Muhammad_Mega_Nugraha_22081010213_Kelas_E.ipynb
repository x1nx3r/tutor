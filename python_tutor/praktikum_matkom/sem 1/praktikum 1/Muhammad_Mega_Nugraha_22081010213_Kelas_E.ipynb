{
  "nbformat": 4,
  "nbformat_minor": 0,
  "metadata": {
    "colab": {
      "provenance": [],
      "authorship_tag": "ABX9TyP1/+SiSrGPULZsr7ynPqtX",
      "include_colab_link": true
    },
    "kernelspec": {
      "name": "python3",
      "display_name": "Python 3"
    },
    "language_info": {
      "name": "python"
    }
  },
  "cells": [
    {
      "cell_type": "markdown",
      "metadata": {
        "id": "view-in-github",
        "colab_type": "text"
      },
      "source": [
        "<a href=\"https://colab.research.google.com/github/x1nx3r/tutor/blob/main/python_tutor/praktikum_matkom/sem%201/praktikum%201/Muhammad_Mega_Nugraha_22081010213_Kelas_E.ipynb\" target=\"_parent\"><img src=\"https://colab.research.google.com/assets/colab-badge.svg\" alt=\"Open In Colab\"/></a>"
      ]
    },
    {
      "cell_type": "markdown",
      "source": [
        "# **Praktikum 1 Matematika Komputasi**\n",
        "\n",
        "Nama : Muhammad Mega Nugraha,\n",
        "NPM : 22081010213,\n",
        "Kelas : E081\n",
        "\n",
        "\n",
        "Buatlah tampilan grafik dari persamaan :\n",
        "\n",
        "1. Sin x + Cos x\n",
        "2. Cos x + Tan x\n",
        "3. ArcTan x -Tan x\n",
        "4. ArcSin x * Cos x +Tan x / Sin x\n",
        "5. Sin x / Tan y\n",
        "\n"
      ],
      "metadata": {
        "id": "RjucTjEwknx7"
      }
    },
    {
      "cell_type": "markdown",
      "source": [
        "# **Soal pertama** sin(x)+cos(x)"
      ],
      "metadata": {
        "id": "qIpK6waGk3QJ"
      }
    },
    {
      "cell_type": "code",
      "source": [
        "#grafik soal 1 sin(x)+cos(x)\n",
        "import matplotlib.pyplot as plt\n",
        "import numpy as np\n",
        "\n",
        "# 100 angka dari -pi sampai pi sebagai x \n",
        "x = np.linspace(-np.pi,np.pi,100)\n",
        "\n",
        "# persamaan y=sin(x)+cos\n",
        "y = np.sin(x) + np.cos(x)\n",
        "\n",
        "# setting the axes at the centre\n",
        "fig = plt.figure()\n",
        "ax = fig.add_subplot(1, 1, 1)\n",
        "ax.spines['left'].set_position('center')\n",
        "ax.spines['bottom'].set_position('center')\n",
        "ax.spines['right'].set_color('none')\n",
        "ax.spines['top'].set_color('none')\n",
        "ax.xaxis.set_ticks_position('bottom')\n",
        "ax.yaxis.set_ticks_position('left')\n",
        "\n",
        "# plot the function\n",
        "plt.plot(x,y, 'b-')\n",
        "\n",
        "# show the plot\n",
        "plt.show()"
      ],
      "metadata": {
        "colab": {
          "base_uri": "https://localhost:8080/",
          "height": 251
        },
        "id": "6U7pPOjBk_WO",
        "outputId": "8bcc5ac0-f8d0-4e3b-baac-0cfc935535a7"
      },
      "execution_count": 1,
      "outputs": [
        {
          "output_type": "display_data",
          "data": {
            "text/plain": [
              "<Figure size 432x288 with 1 Axes>"
            ],
            "image/png": "[encoded data removed]"
          },
          "metadata": {
            "needs_background": "light"
          }
        }
      ]
    },
    {
      "cell_type": "markdown",
      "source": [
        "# **Soal kedua** cos(x)+tan(x)"
      ],
      "metadata": {
        "id": "3GmJHbPalnp2"
      }
    },
    {
      "cell_type": "code",
      "source": [
        "#grafik soal 2 cos(x)+tan(x)\n",
        "import matplotlib.pyplot as plt\n",
        "import numpy as np\n",
        "\n",
        "# 100 angka dari -pi sampai pi sebagai x \n",
        "x = np.linspace(-np.pi,np.pi,100)\n",
        "\n",
        "# persamaan y=cos(x)+tan(x)\n",
        "y = np.cos(x) + np.tan(x)\n",
        "\n",
        "# setting the axes at the centre\n",
        "fig = plt.figure()\n",
        "ax = fig.add_subplot(1, 1, 1)\n",
        "ax.spines['left'].set_position('center')\n",
        "ax.spines['bottom'].set_position('center')\n",
        "ax.spines['right'].set_color('none')\n",
        "ax.spines['top'].set_color('none')\n",
        "ax.xaxis.set_ticks_position('bottom')\n",
        "ax.yaxis.set_ticks_position('left')\n",
        "\n",
        "# plot the function\n",
        "plt.plot(x,y, 'b-')\n",
        "\n",
        "# show the plot\n",
        "plt.show()"
      ],
      "metadata": {
        "colab": {
          "base_uri": "https://localhost:8080/",
          "height": 248
        },
        "id": "1GVoEJ6Jltgk",
        "outputId": "e8ca3480-3668-4d86-d82e-550946fcec4f"
      },
      "execution_count": 2,
      "outputs": [
        {
          "output_type": "display_data",
          "data": {
            "text/plain": [
              "<Figure size 432x288 with 1 Axes>"
            ],
            "image/png": "[encoded data removed]"
          },
          "metadata": {
            "needs_background": "light"
          }
        }
      ]
    },
    {
      "cell_type": "markdown",
      "source": [
        "# **Soal Ketiga** arctan(x)-tan(x)"
      ],
      "metadata": {
        "id": "RQ76s45Ol6mJ"
      }
    },
    {
      "cell_type": "code",
      "source": [
        "#grafik soal 3 arctan(x)-tan(x)\n",
        "import matplotlib.pyplot as plt\n",
        "import numpy as np\n",
        "\n",
        "# 100 angka dari -pi sampai pi sebagai x \n",
        "x = np.linspace(-np.pi,np.pi,100)\n",
        "\n",
        "# persamaan y=arctan(x)-tan(x)\n",
        "y = np.arctan(x) - np.tan(x)\n",
        "\n",
        "# setting the axes at the centre\n",
        "fig = plt.figure()\n",
        "ax = fig.add_subplot(1, 1, 1)\n",
        "ax.spines['left'].set_position('center')\n",
        "ax.spines['bottom'].set_position('center')\n",
        "ax.spines['right'].set_color('none')\n",
        "ax.spines['top'].set_color('none')\n",
        "ax.xaxis.set_ticks_position('bottom')\n",
        "ax.yaxis.set_ticks_position('left')\n",
        "\n",
        "# plot the function\n",
        "plt.plot(x,y, 'b-')\n",
        "\n",
        "# show the plot\n",
        "plt.show()"
      ],
      "metadata": {
        "colab": {
          "base_uri": "https://localhost:8080/",
          "height": 248
        },
        "id": "K3TCzPLimSs0",
        "outputId": "c081d55f-3c55-4795-afc1-a454b50fee9f"
      },
      "execution_count": 3,
      "outputs": [
        {
          "output_type": "display_data",
          "data": {
            "text/plain": [
              "<Figure size 432x288 with 1 Axes>"
            ],
            "image/png": "[encoded data removed]"
          },
          "metadata": {
            "needs_background": "light"
          }
        }
      ]
    },
    {
      "cell_type": "markdown",
      "source": [
        "# **Soal Keempat** arcsin(x)*cos(x)+tan(x)/sin(x)"
      ],
      "metadata": {
        "id": "t400NtPCmdIy"
      }
    },
    {
      "cell_type": "code",
      "source": [
        "#grafik soal 4 arcsin(x)*cos(x)+tan(x)/sin(x)\n",
        "import matplotlib.pyplot as plt\n",
        "import numpy as np\n",
        "\n",
        "# 100 angka dari -pi sampai pi sebagai x \n",
        "x = np.linspace(-np.pi,np.pi,100)\n",
        "\n",
        "# persamaan y=arcsin(x)*cos(x)+tan(x)/sin(x)\n",
        "y = np.arctan(x) * np.cos(x) + np.tan(x) / np.sin(x)\n",
        "\n",
        "# setting the axes at the centre\n",
        "fig = plt.figure()\n",
        "ax = fig.add_subplot(1, 1, 1)\n",
        "ax.spines['left'].set_position('center')\n",
        "ax.spines['bottom'].set_position('center')\n",
        "ax.spines['right'].set_color('none')\n",
        "ax.spines['top'].set_color('none')\n",
        "ax.xaxis.set_ticks_position('bottom')\n",
        "ax.yaxis.set_ticks_position('left')\n",
        "\n",
        "# plot the function\n",
        "plt.plot(x,y, 'b-')\n",
        "\n",
        "# show the plot\n",
        "plt.show()"
      ],
      "metadata": {
        "colab": {
          "base_uri": "https://localhost:8080/",
          "height": 248
        },
        "id": "iscLDFnOmtIN",
        "outputId": "b9ef1a55-08a3-4259-b736-4dce3cfeb45f"
      },
      "execution_count": 4,
      "outputs": [
        {
          "output_type": "display_data",
          "data": {
            "text/plain": [
              "<Figure size 432x288 with 1 Axes>"
            ],
            "image/png": "[encoded data removed]"
          },
          "metadata": {
            "needs_background": "light"
          }
        }
      ]
    },
    {
      "cell_type": "markdown",
      "source": [
        "# **Soal Kelima** sin(x)/tan(x)"
      ],
      "metadata": {
        "id": "yk8xpIamm_BK"
      }
    },
    {
      "cell_type": "code",
      "source": [
        "#grafik soal 5 sin(x)/tan(y)\n",
        "import matplotlib.pyplot as plt\n",
        "import numpy as np\n",
        "\n",
        "# 100 angka dari -pi sampai pi sebagai x \n",
        "x = np.linspace(-np.pi,np.pi,100)\n",
        "\n",
        "# persamaan y=sin(x)/tan(x)\n",
        "y = np.sin(x) - np.tan(x)\n",
        "\n",
        "# setting the axes at the centre\n",
        "fig = plt.figure()\n",
        "ax = fig.add_subplot(1, 1, 1)\n",
        "ax.spines['left'].set_position('center')\n",
        "ax.spines['bottom'].set_position('center')\n",
        "ax.spines['right'].set_color('none')\n",
        "ax.spines['top'].set_color('none')\n",
        "ax.xaxis.set_ticks_position('bottom')\n",
        "ax.yaxis.set_ticks_position('left')\n",
        "\n",
        "# plot the function\n",
        "plt.plot(x,y, 'b-')\n",
        "\n",
        "# show the plot\n",
        "plt.show()"
      ],
      "metadata": {
        "colab": {
          "base_uri": "https://localhost:8080/",
          "height": 248
        },
        "id": "C56JL_NvnMFg",
        "outputId": "b579b0f0-b339-45d0-9514-c464e2f30e4a"
      },
      "execution_count": 5,
      "outputs": [
        {
          "output_type": "display_data",
          "data": {
            "text/plain": [
              "<Figure size 432x288 with 1 Axes>"
            ],
            "image/png": "[encoded data removed]"
          },
          "metadata": {
            "needs_background": "light"
          }
        }
      ]
    }
  ]
}